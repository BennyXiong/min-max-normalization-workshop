{
 "cells": [
  {
   "cell_type": "markdown",
   "id": "460a5dba",
   "metadata": {},
   "source": [
    "# 🏡 Min-Max Normalization Workshop\n",
    "## Team Name: ML_HCB\n",
    "## Team Members: Haysam, Tracy, Benny"
   ]
  },
  {
   "cell_type": "code",
   "execution_count": 2,
   "id": "b7753844",
   "metadata": {},
   "outputs": [
    {
     "data": {
      "application/vnd.microsoft.datawrangler.viewer.v0+json": {
       "columns": [
        {
         "name": "index",
         "rawType": "int64",
         "type": "integer"
        },
        {
         "name": "House_ID",
         "rawType": "object",
         "type": "string"
        },
        {
         "name": "Price",
         "rawType": "int64",
         "type": "integer"
        },
        {
         "name": "Area_sqft",
         "rawType": "int64",
         "type": "integer"
        },
        {
         "name": "Num_Bedrooms",
         "rawType": "int64",
         "type": "integer"
        },
        {
         "name": "Num_Bathrooms",
         "rawType": "int64",
         "type": "integer"
        },
        {
         "name": "Year_Built",
         "rawType": "int64",
         "type": "integer"
        },
        {
         "name": "Lot_Size",
         "rawType": "int64",
         "type": "integer"
        }
       ],
       "ref": "de1c0f3d-09cb-4327-80c2-54989f767f01",
       "rows": [
        [
         "0",
         "H100000",
         "574507",
         "1462",
         "3",
         "3",
         "2002",
         "4878"
        ],
        [
         "1",
         "H100001",
         "479260",
         "1727",
         "2",
         "2",
         "1979",
         "4943"
        ],
        [
         "2",
         "H100002",
         "597153",
         "1403",
         "5",
         "2",
         "1952",
         "5595"
        ],
        [
         "3",
         "H100003",
         "728454",
         "1646",
         "5",
         "2",
         "1992",
         "9305"
        ],
        [
         "4",
         "H100004",
         "464876",
         "853",
         "1",
         "1",
         "1956",
         "7407"
        ]
       ],
       "shape": {
        "columns": 7,
        "rows": 5
       }
      },
      "text/html": [
       "<div>\n",
       "<style scoped>\n",
       "    .dataframe tbody tr th:only-of-type {\n",
       "        vertical-align: middle;\n",
       "    }\n",
       "\n",
       "    .dataframe tbody tr th {\n",
       "        vertical-align: top;\n",
       "    }\n",
       "\n",
       "    .dataframe thead th {\n",
       "        text-align: right;\n",
       "    }\n",
       "</style>\n",
       "<table border=\"1\" class=\"dataframe\">\n",
       "  <thead>\n",
       "    <tr style=\"text-align: right;\">\n",
       "      <th></th>\n",
       "      <th>House_ID</th>\n",
       "      <th>Price</th>\n",
       "      <th>Area_sqft</th>\n",
       "      <th>Num_Bedrooms</th>\n",
       "      <th>Num_Bathrooms</th>\n",
       "      <th>Year_Built</th>\n",
       "      <th>Lot_Size</th>\n",
       "    </tr>\n",
       "  </thead>\n",
       "  <tbody>\n",
       "    <tr>\n",
       "      <th>0</th>\n",
       "      <td>H100000</td>\n",
       "      <td>574507</td>\n",
       "      <td>1462</td>\n",
       "      <td>3</td>\n",
       "      <td>3</td>\n",
       "      <td>2002</td>\n",
       "      <td>4878</td>\n",
       "    </tr>\n",
       "    <tr>\n",
       "      <th>1</th>\n",
       "      <td>H100001</td>\n",
       "      <td>479260</td>\n",
       "      <td>1727</td>\n",
       "      <td>2</td>\n",
       "      <td>2</td>\n",
       "      <td>1979</td>\n",
       "      <td>4943</td>\n",
       "    </tr>\n",
       "    <tr>\n",
       "      <th>2</th>\n",
       "      <td>H100002</td>\n",
       "      <td>597153</td>\n",
       "      <td>1403</td>\n",
       "      <td>5</td>\n",
       "      <td>2</td>\n",
       "      <td>1952</td>\n",
       "      <td>5595</td>\n",
       "    </tr>\n",
       "    <tr>\n",
       "      <th>3</th>\n",
       "      <td>H100003</td>\n",
       "      <td>728454</td>\n",
       "      <td>1646</td>\n",
       "      <td>5</td>\n",
       "      <td>2</td>\n",
       "      <td>1992</td>\n",
       "      <td>9305</td>\n",
       "    </tr>\n",
       "    <tr>\n",
       "      <th>4</th>\n",
       "      <td>H100004</td>\n",
       "      <td>464876</td>\n",
       "      <td>853</td>\n",
       "      <td>1</td>\n",
       "      <td>1</td>\n",
       "      <td>1956</td>\n",
       "      <td>7407</td>\n",
       "    </tr>\n",
       "  </tbody>\n",
       "</table>\n",
       "</div>"
      ],
      "text/plain": [
       "  House_ID   Price  Area_sqft  Num_Bedrooms  Num_Bathrooms  Year_Built  \\\n",
       "0  H100000  574507       1462             3              3        2002   \n",
       "1  H100001  479260       1727             2              2        1979   \n",
       "2  H100002  597153       1403             5              2        1952   \n",
       "3  H100003  728454       1646             5              2        1992   \n",
       "4  H100004  464876        853             1              1        1956   \n",
       "\n",
       "   Lot_Size  \n",
       "0      4878  \n",
       "1      4943  \n",
       "2      5595  \n",
       "3      9305  \n",
       "4      7407  "
      ]
     },
     "execution_count": 2,
     "metadata": {},
     "output_type": "execute_result"
    }
   ],
   "source": [
    "# 🔢 Load and display dataset\n",
    "import pandas as pd\n",
    "df = pd.read_csv('data/housing_data.csv')\n",
    "df.head()"
   ]
  },
  {
   "cell_type": "markdown",
   "id": "5cffe478",
   "metadata": {},
   "source": [
    "### 🔎 Step 1 — Implement Min-Max Normalization on the Housing Dataset"
   ]
  },
  {
   "cell_type": "code",
   "execution_count": 1,
   "id": "1e329136",
   "metadata": {},
   "outputs": [],
   "source": [
    "# ✍️ Implement Min-Max Normalization manually here (no sklearn/numpy)\n",
    "# Normalize: Price, Area_sqft, Num_Bedrooms, Num_Bathrooms, Lot_Size\n",
    "import pandas as pd\n",
    "\n",
    "class MinMaxNormalizer:\n",
    "    def __init__(self, df):\n",
    "        self.df = df.copy()\n",
    "    \n",
    "    def normalize_column(self, column_name, new_column_name=None):\n",
    "        if column_name not in self.df.columns:\n",
    "            raise ValueError(f\"Column '{column_name}' does not exist in the DataFrame.\")\n",
    "        \n",
    "        col_min = self.df[column_name].min()\n",
    "        col_max = self.df[column_name].max()\n",
    "        \n",
    "        if col_max == col_min:\n",
    "            raise ValueError(f\"Cannot normalize column '{column_name}' because it has constant value.\")\n",
    "        \n",
    "        if not new_column_name:\n",
    "            new_column_name = f\"{column_name}_MinMax\"\n",
    "        \n",
    "        self.df[new_column_name] = (self.df[column_name] - col_min) / (col_max - col_min)\n",
    "        return self.df[[column_name, new_column_name]]\n",
    "    \n",
    "    def get_dataframe(self):\n",
    "        return self.df"
   ]
  },
  {
   "cell_type": "code",
   "execution_count": null,
   "id": "0268bdae",
   "metadata": {},
   "outputs": [],
   "source": []
  }
 ],
 "metadata": {
  "kernelspec": {
   "display_name": "Python 3",
   "language": "python",
   "name": "python3"
  },
  "language_info": {
   "codemirror_mode": {
    "name": "ipython",
    "version": 3
   },
   "file_extension": ".py",
   "mimetype": "text/x-python",
   "name": "python",
   "nbconvert_exporter": "python",
   "pygments_lexer": "ipython3",
   "version": "3.13.3"
  }
 },
 "nbformat": 4,
 "nbformat_minor": 5
}
